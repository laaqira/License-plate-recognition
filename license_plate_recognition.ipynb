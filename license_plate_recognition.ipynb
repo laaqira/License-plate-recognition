{
  "nbformat": 4,
  "nbformat_minor": 0,
  "metadata": {
    "colab": {
      "provenance": [],
      "authorship_tag": "ABX9TyMNa5fOZvvKMq9m43s118c+",
      "include_colab_link": true
    },
    "kernelspec": {
      "name": "python3",
      "display_name": "Python 3"
    },
    "language_info": {
      "name": "python"
    }
  },
  "cells": [
    {
      "cell_type": "markdown",
      "metadata": {
        "id": "view-in-github",
        "colab_type": "text"
      },
      "source": [
        "<a href=\"https://colab.research.google.com/github/laaqira/License-plate-recognition/blob/main/license_plate_recognition.ipynb\" target=\"_parent\"><img src=\"https://colab.research.google.com/assets/colab-badge.svg\" alt=\"Open In Colab\"/></a>"
      ]
    },
    {
      "cell_type": "markdown",
      "source": [
        "##Loading libraries"
      ],
      "metadata": {
        "id": "Y5u-N0FLhviw"
      }
    },
    {
      "cell_type": "code",
      "execution_count": null,
      "metadata": {
        "id": "VrOtalLUqYtQ"
      },
      "outputs": [],
      "source": [
        "# Import necessary libraries\n",
        "import cv2\n",
        "import imutils\n",
        "import pytesseract"
      ]
    },
    {
      "cell_type": "code",
      "source": [
        "#set the path of the tesseract-ocr engine for the library pytesseract. \n",
        "pytesseract.pytesseract.tesseract_cmd = \"C:\\\\Users\\\\asus\\\\AppData\\\\Local\\\\Programs\\\\Tesseract-OCR\\\\tesseract.exe\""
      ],
      "metadata": {
        "id": "8GGEVm8rf9rQ"
      },
      "execution_count": null,
      "outputs": []
    },
    {
      "cell_type": "markdown",
      "source": [
        "## Processing the image"
      ],
      "metadata": {
        "id": "50fscTJXhz-x"
      }
    },
    {
      "cell_type": "code",
      "source": [
        "# Load the image and resize it\n",
        "image = cv2.imread('path to image')\n",
        "image = imutils.resize(image, width=300 )\n",
        "winname = \"original image\"\n",
        "cv2.namedWindow(winname)        \n",
        "cv2.moveWindow(winname, 30,40)  \n",
        "cv2.imshow(\"original image\", image)\n",
        "cv2.waitKey(1000)"
      ],
      "metadata": {
        "id": "OcyEHRFjgC64"
      },
      "execution_count": null,
      "outputs": []
    },
    {
      "cell_type": "code",
      "source": [
        "# Display the grayscale image\n",
        "gray_image = cv2.cvtColor(image, cv2.COLOR_BGR2GRAY)\n",
        "winname = \"greyed image\"\n",
        "cv2.namedWindow(winname)        \n",
        "cv2.moveWindow(winname, 340,40)  \n",
        "cv2.imshow(\"greyed image\", gray_image)\n",
        "cv2.waitKey(1000)"
      ],
      "metadata": {
        "id": "maiyaIM2gFPZ"
      },
      "execution_count": null,
      "outputs": []
    },
    {
      "cell_type": "code",
      "source": [
        "# Display the smoothened image\n",
        "gray_image = cv2.bilateralFilter(gray_image, 11, 17, 17) \n",
        "winname = \"smoothened image\"\n",
        "cv2.namedWindow(winname)        \n",
        "cv2.moveWindow(winname, 650,40)  \n",
        "cv2.imshow(\"smoothened image\", gray_image)\n",
        "cv2.waitKey(1000)"
      ],
      "metadata": {
        "id": "og285-29gF2Y"
      },
      "execution_count": null,
      "outputs": []
    },
    {
      "cell_type": "code",
      "source": [
        "# Display the edged image\n",
        "edged = cv2.Canny(gray_image, 30, 200) \n",
        "winname = \"edged image\"\n",
        "cv2.namedWindow(winname)        \n",
        "cv2.moveWindow(winname, 960,40)  \n",
        "cv2.imshow(\"edged image\", edged)\n",
        "cv2.waitKey(1000)"
      ],
      "metadata": {
        "id": "A9a0uoG6gIBY"
      },
      "execution_count": null,
      "outputs": []
    },
    {
      "cell_type": "code",
      "source": [
        "# Draw all contours on a copy of the original image\n",
        "cnts,new = cv2.findContours(edged.copy(), cv2.RETR_LIST, cv2.CHAIN_APPROX_SIMPLE)\n",
        "image1=image.copy()\n",
        "cv2.drawContours(image1,cnts,-1,(0,255,0),3)\n",
        "winname = \"contours\"\n",
        "cv2.namedWindow(winname)        \n",
        "cv2.moveWindow(winname, 30,250)  \n",
        "cv2.imshow(\"contours\",image1)\n",
        "cv2.waitKey(1000)"
      ],
      "metadata": {
        "id": "NXqA_yT4gJ7O"
      },
      "execution_count": null,
      "outputs": []
    },
    {
      "cell_type": "code",
      "source": [
        "# Display the image with top 30 contours\n",
        "cnts = sorted(cnts, key = cv2.contourArea, reverse = True) [:30]\n",
        "screenCnt = None\n",
        "image2 = image.copy()\n",
        "cv2.drawContours(image2,cnts,-1,(0,255,0),3)\n",
        "winname = \"Top 30 contours\"\n",
        "cv2.namedWindow(winname)        \n",
        "cv2.moveWindow(winname, 340,250)  \n",
        "cv2.imshow(\"Top 30 contours\",image2)\n",
        "cv2.waitKey(1000)"
      ],
      "metadata": {
        "id": "jrIDxD8ZgLrf"
      },
      "execution_count": null,
      "outputs": []
    },
    {
      "cell_type": "code",
      "source": [
        "# Loop over all contours to find the one with 4 vertices\n",
        "# it is supposed here that the plate's contour is the largest. \n",
        "i=7\n",
        "for c in cnts:\n",
        "        perimeter = cv2.arcLength(c, True)\n",
        "        approx = cv2.approxPolyDP(c, 0.018 * perimeter, True)\n",
        "        if len(approx) == 4: \n",
        "                screenCnt = approx\n",
        "\n",
        "                x,y,w,h = cv2.boundingRect(c) \n",
        "                new_img=image[y:y+h,x:x+w]\n",
        "                cv2.imwrite('./'+str(i)+'.png',new_img)   #the cropped final image is passed to a new file to review the results in case of getting errors. \n",
        "                i+=1\n",
        "                break"
      ],
      "metadata": {
        "id": "OFGK0VrigO-R"
      },
      "execution_count": null,
      "outputs": []
    },
    {
      "cell_type": "code",
      "source": [
        "cv2.drawContours(image, [screenCnt], -1, (0, 255, 0), 3)\n",
        "winname = \"image with detected license plate\"\n",
        "cv2.namedWindow(winname)        # Create a named window\n",
        "cv2.moveWindow(winname, 650,250)  \n",
        "cv2.imshow(\"image with detected license plate\", image)\n",
        "cv2.waitKey(1000)\n"
      ],
      "metadata": {
        "id": "4SNnQKBKgP2b"
      },
      "execution_count": null,
      "outputs": []
    },
    {
      "cell_type": "markdown",
      "source": [
        "##Apply OCR"
      ],
      "metadata": {
        "id": "UZsyZre8h9gY"
      }
    },
    {
      "cell_type": "code",
      "source": [
        "Cropped_loc = './7.png'\n",
        "winname = \"cropped\"\n",
        "cv2.namedWindow(winname)        # Create a named window\n",
        "cv2.moveWindow(winname, 960,250)  \n",
        "cv2.imshow(\"cropped\", cv2.imread(Cropped_loc))\n",
        "plate = pytesseract.image_to_string(Cropped_loc, lang='eng')\n",
        "print(\"Number plate is:\", plate)\n",
        "cv2.waitKey(8000)"
      ],
      "metadata": {
        "id": "d-A_OJ5sgRNx"
      },
      "execution_count": null,
      "outputs": []
    },
    {
      "cell_type": "code",
      "source": [
        "cv2.destroyAllWindows()"
      ],
      "metadata": {
        "id": "UCBHvr-zgSt5"
      },
      "execution_count": null,
      "outputs": []
    }
  ]
}